{
 "cells": [
  {
   "cell_type": "markdown",
   "id": "7506017e",
   "metadata": {},
   "source": [
    "<h1>ME212 Project</h1>"
   ]
  },
  {
   "cell_type": "code",
   "execution_count": 13,
   "id": "681da5c6",
   "metadata": {},
   "outputs": [],
   "source": [
    "##Importing necessary packages\n",
    "import numpy as np\n",
    "from tabulate import tabulate"
   ]
  },
  {
   "cell_type": "code",
   "execution_count": 14,
   "id": "27daa18b",
   "metadata": {},
   "outputs": [
    {
     "name": "stdout",
     "output_type": "stream",
     "text": [
      "Enter the no. of cylindrical elements:2\n"
     ]
    }
   ],
   "source": [
    "##Taking input of number of cylindrical elements\n",
    "n = int(input(\"Enter the no. of cylindrical elements:\"))"
   ]
  },
  {
   "cell_type": "code",
   "execution_count": 15,
   "id": "bef3688c",
   "metadata": {},
   "outputs": [
    {
     "name": "stdout",
     "output_type": "stream",
     "text": [
      "Enter diameter of 1 element(mm): 30\n",
      "Enter force on 1 element(N): 30000\n",
      "Enter diameter of 2 element(mm): 50\n",
      "Enter force on 2 element(N): 40000\n"
     ]
    }
   ],
   "source": [
    "##Accepting the diameters and forces on the elements, starting from free end\n",
    "diameters = []\n",
    "forces = []\n",
    "for i in range(1,n+1):\n",
    "    diameters.append(float(input(\"Enter diameter of \"+str(i)+\" element(mm): \")))\n",
    "    forces.append(float(input(\"Enter force on \"+str(i)+\" element(N): \")))\n",
    "    \n",
    "diameters = np.array(diameters)\n",
    "forces = np.array(forces)"
   ]
  },
  {
   "cell_type": "code",
   "execution_count": 16,
   "id": "52e4350c",
   "metadata": {},
   "outputs": [],
   "source": [
    "##Calculating the stress for each element\n",
    "def calculate_sigma(n,diameters,forces):\n",
    "    sigma = []\n",
    "    for i in range(n):\n",
    "        if i!=0:\n",
    "            forces[i]+=forces[i-1]\n",
    "        sigma.append(forces[i]/(np.pi*(pow(diameters[i]/2,2))))\n",
    "    sigma = np.array(sigma)\n",
    "    return sigma"
   ]
  },
  {
   "cell_type": "code",
   "execution_count": 17,
   "id": "4d85afc2",
   "metadata": {},
   "outputs": [
    {
     "name": "stdout",
     "output_type": "stream",
     "text": [
      "╒════╤════════════════╤════════════╤═══════════════╕\n",
      "│    │   Diameter(mm) │   Force(N) │   Stress(MPa) │\n",
      "╞════╪════════════════╪════════════╪═══════════════╡\n",
      "│  0 │             30 │      30000 │       42.4413 │\n",
      "├────┼────────────────┼────────────┼───────────────┤\n",
      "│  1 │             50 │      70000 │       35.6507 │\n",
      "╘════╧════════════════╧════════════╧═══════════════╛\n"
     ]
    }
   ],
   "source": [
    "##Final Results\n",
    "sigma = calculate_sigma(n,diameters,forces)\n",
    "print(tabulate({'Diameter(mm)': diameters, 'Force(N)': forces, 'Stress(MPa)': sigma}, \n",
    "               headers=\"keys\", tablefmt='fancy_grid',showindex=True))"
   ]
  },
  {
   "cell_type": "code",
   "execution_count": null,
   "id": "5da70549",
   "metadata": {},
   "outputs": [],
   "source": []
  }
 ],
 "metadata": {
  "kernelspec": {
   "display_name": "Python 3",
   "language": "python",
   "name": "python3"
  },
  "language_info": {
   "codemirror_mode": {
    "name": "ipython",
    "version": 3
   },
   "file_extension": ".py",
   "mimetype": "text/x-python",
   "name": "python",
   "nbconvert_exporter": "python",
   "pygments_lexer": "ipython3",
   "version": "3.8.8"
  }
 },
 "nbformat": 4,
 "nbformat_minor": 5
}
